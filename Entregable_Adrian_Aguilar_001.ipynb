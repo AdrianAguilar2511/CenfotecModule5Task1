{
 "cells": [
  {
   "cell_type": "markdown",
   "metadata": {},
   "source": [
    "## Adrian Aguilar\n",
    "# SECTION # 3 - GET STARTED WITH PYTHON FOR DATA SCIENCE \n",
    "#1. Libraries or Modules\n",
    "\n",
    "import math\n",
    "math.sqrt(25)\n"
   ]
  },
  {
   "cell_type": "code",
   "execution_count": 10,
   "metadata": {
    "scrolled": true
   },
   "outputs": [
    {
     "data": {
      "text/plain": [
       "3.141592653589793"
      ]
     },
     "execution_count": 10,
     "metadata": {},
     "output_type": "execute_result"
    }
   ],
   "source": [
    "import math \n",
    "math.pi\n"
   ]
  },
  {
   "cell_type": "code",
   "execution_count": 11,
   "metadata": {},
   "outputs": [
    {
     "data": {
      "text/plain": [
       "5.0"
      ]
     },
     "execution_count": 11,
     "metadata": {},
     "output_type": "execute_result"
    }
   ],
   "source": [
    "import math as mt\n",
    "mt.sqrt(25)"
   ]
  },
  {
   "cell_type": "code",
   "execution_count": 12,
   "metadata": {},
   "outputs": [],
   "source": [
    "#2. In your notebook import the following modules and experiment with some of \n",
    "#the predefined functions within each module; use the the reference in the resources as a guide:\n",
    "import numpy \n",
    "import math \n",
    "\n",
    "#3. Now use numpy to establish some random data we can work with as follows:\n",
    "from numpy import random\n",
    "import numpy as np"
   ]
  },
  {
   "cell_type": "code",
   "execution_count": 13,
   "metadata": {},
   "outputs": [
    {
     "data": {
      "text/plain": [
       "array([[0.50194881, 0.75009965, 0.89896149, 0.45010572, 0.36385189],\n",
       "       [0.69468982, 0.61713274, 0.16514782, 0.4668065 , 0.93375242],\n",
       "       [0.55355302, 0.94705639, 0.78045494, 0.27118267, 0.91806622],\n",
       "       [0.13395129, 0.51168346, 0.08672111, 0.71779969, 0.54502974],\n",
       "       [0.2349512 , 0.92400402, 0.8423576 , 0.28671794, 0.79105111]])"
      ]
     },
     "execution_count": 13,
     "metadata": {},
     "output_type": "execute_result"
    }
   ],
   "source": [
    "# uniform random numbers in [0,1]\n",
    "dataOne = random.rand(5,5)\n",
    "dataOne"
   ]
  },
  {
   "cell_type": "code",
   "execution_count": 14,
   "metadata": {},
   "outputs": [
    {
     "data": {
      "text/plain": [
       "0.5754830912794725"
      ]
     },
     "execution_count": 14,
     "metadata": {},
     "output_type": "execute_result"
    }
   ],
   "source": [
    "#4. Now we use a the mean function from within numpy to obtain the mean of the entire array of numbers as follows:\n",
    "np.mean(dataOne)"
   ]
  },
  {
   "cell_type": "code",
   "execution_count": 15,
   "metadata": {},
   "outputs": [
    {
     "data": {
      "text/plain": [
       "3628800"
      ]
     },
     "execution_count": 15,
     "metadata": {},
     "output_type": "execute_result"
    }
   ],
   "source": [
    "#5. Now it is your turn! Use three predefined functions with math and stats to obtain information about the data stored \n",
    "#in the numpy array; note any issues you encounter along the way as comments in your notebook. \n",
    "#These will serve you well later as lesson learned that you have documented and can reference.\n",
    "\n",
    "#Zaily's notes: https://docs.python.org/3/library/math.html \n",
    "\n",
    "math.factorial(10) #Return x factorial as an integer. Raises ValueError if x is not integral or is negative."
   ]
  },
  {
   "cell_type": "code",
   "execution_count": 16,
   "metadata": {},
   "outputs": [
    {
     "data": {
      "text/plain": [
       "True"
      ]
     },
     "execution_count": 16,
     "metadata": {},
     "output_type": "execute_result"
    }
   ],
   "source": [
    "x=10000\n",
    "math.isfinite(x) #Return True if x is neither an infinity nor a NaN, and False otherwise."
   ]
  },
  {
   "cell_type": "code",
   "execution_count": 17,
   "metadata": {},
   "outputs": [
    {
     "data": {
      "text/plain": [
       "(0.0, 10.0)"
      ]
     },
     "execution_count": 17,
     "metadata": {},
     "output_type": "execute_result"
    }
   ],
   "source": [
    "n=10 \n",
    "math.modf(n) #Return the fractional and integer parts of x. Both results carry the sign of x and are floats."
   ]
  },
  {
   "cell_type": "code",
   "execution_count": 18,
   "metadata": {},
   "outputs": [
    {
     "data": {
      "text/plain": [
       "array([1, 2, 3])"
      ]
     },
     "execution_count": 18,
     "metadata": {},
     "output_type": "execute_result"
    }
   ],
   "source": [
    "np.array([1, 2, 3])"
   ]
  },
  {
   "cell_type": "code",
   "execution_count": 19,
   "metadata": {},
   "outputs": [
    {
     "data": {
      "text/plain": [
       "matrix([[1, 2],\n",
       "        [3, 4]])"
      ]
     },
     "execution_count": 19,
     "metadata": {},
     "output_type": "execute_result"
    }
   ],
   "source": [
    "\n",
    "np.array(np.mat('1 2; 3 4'), subok=True)"
   ]
  },
  {
   "cell_type": "code",
   "execution_count": 20,
   "metadata": {},
   "outputs": [
    {
     "data": {
      "text/plain": [
       "array([1, 3], dtype=int32)"
      ]
     },
     "execution_count": 20,
     "metadata": {},
     "output_type": "execute_result"
    }
   ],
   "source": [
    "\n",
    "x = np.array([(1,2),(3,4)],dtype=[('a','<i4'),('b','<i4')])\n",
    "x['a']"
   ]
  },
  {
   "cell_type": "code",
   "execution_count": 21,
   "metadata": {},
   "outputs": [
    {
     "name": "stdout",
     "output_type": "stream",
     "text": [
      "I Love data Science\n"
     ]
    }
   ],
   "source": [
    "\n",
    "##FUNCTIONS \n",
    "\n",
    "print('I Love data Science')"
   ]
  },
  {
   "cell_type": "code",
   "execution_count": 22,
   "metadata": {},
   "outputs": [
    {
     "name": "stdout",
     "output_type": "stream",
     "text": [
      "I Love data Science\n",
      "25\n"
     ]
    }
   ],
   "source": [
    "\n",
    "##VARIABLES\n",
    "\n",
    "z = 25\n",
    "variableName1 = 'I Love data Science'\n",
    "\n",
    "print(variableName1)\n",
    "print(z)"
   ]
  },
  {
   "cell_type": "code",
   "execution_count": 23,
   "metadata": {},
   "outputs": [
    {
     "data": {
      "text/plain": [
       "int"
      ]
     },
     "execution_count": 23,
     "metadata": {},
     "output_type": "execute_result"
    }
   ],
   "source": [
    "\n",
    "#DATATYPES \n",
    "z = 25\n",
    "type (z)"
   ]
  },
  {
   "cell_type": "code",
   "execution_count": 24,
   "metadata": {},
   "outputs": [
    {
     "data": {
      "text/plain": [
       "float"
      ]
     },
     "execution_count": 24,
     "metadata": {},
     "output_type": "execute_result"
    }
   ],
   "source": [
    "y = 25.0\n",
    "type (y)"
   ]
  },
  {
   "cell_type": "code",
   "execution_count": 25,
   "metadata": {},
   "outputs": [
    {
     "name": "stdout",
     "output_type": "stream",
     "text": [
      "50.0\n"
     ]
    }
   ],
   "source": [
    "varOne = 25\n",
    "varTwo = 25.0\n",
    "\n",
    "varThree = varOne + varTwo\n",
    "print(varThree)"
   ]
  },
  {
   "cell_type": "code",
   "execution_count": 33,
   "metadata": {},
   "outputs": [
    {
     "name": "stdout",
     "output_type": "stream",
     "text": [
      "25Hello \n"
     ]
    }
   ],
   "source": [
    "varOne = 25\n",
    "varOne = str(varOne)\n",
    "varTwo = 'Hello '\n",
    "varThree = varOne + varTwo\n",
    "print(varThree)"
   ]
  },
  {
   "cell_type": "code",
   "execution_count": 30,
   "metadata": {},
   "outputs": [
    {
     "data": {
      "text/plain": [
       "str"
      ]
     },
     "execution_count": 30,
     "metadata": {},
     "output_type": "execute_result"
    }
   ],
   "source": [
    "type (varOne)\n"
   ]
  },
  {
   "cell_type": "code",
   "execution_count": 31,
   "metadata": {},
   "outputs": [
    {
     "data": {
      "text/plain": [
       "str"
      ]
     },
     "execution_count": 31,
     "metadata": {},
     "output_type": "execute_result"
    }
   ],
   "source": [
    "type (varTwo)"
   ]
  },
  {
   "cell_type": "code",
   "execution_count": 2,
   "metadata": {},
   "outputs": [
    {
     "name": "stdout",
     "output_type": "stream",
     "text": [
      "[2, 3]\n"
     ]
    }
   ],
   "source": [
    "##Lists and Dictionaries\n",
    "listOne = [1,2,3,4]\n",
    "print(listOne[1:3])"
   ]
  },
  {
   "cell_type": "code",
   "execution_count": 3,
   "metadata": {},
   "outputs": [
    {
     "data": {
      "text/plain": [
       "4098"
      ]
     },
     "execution_count": 3,
     "metadata": {},
     "output_type": "execute_result"
    }
   ],
   "source": [
    "#DICTIONARIES \n",
    "\n",
    "tel = {'jack': 4098, 'sape': 4139}\n",
    "tel['jack']"
   ]
  },
  {
   "cell_type": "code",
   "execution_count": 51,
   "metadata": {},
   "outputs": [
    {
     "name": "stdout",
     "output_type": "stream",
     "text": [
      "keys de Dic datos personales \n",
      "dict_keys(['nombre', 'apellido', 'edad', 'carreras', 'universidad'])\n",
      "keys de Dic del Key nombre y apellido \n",
      "John\n",
      "Smith\n",
      "keys de Dic del Key nombre  cambio \n",
      "Jane\n",
      "Smith\n",
      "Agregar nueva llave email\n",
      "{'apellido': 'Smith',\n",
      " 'carreras': ['Computación', 'Física'],\n",
      " 'edad': 20,\n",
      " 'email': 'jane.smith@example.com',\n",
      " 'nombre': 'Jane',\n",
      " 'universidad': {'fundación': 2001, 'nombre': 'Universidad Super Patito'}}\n",
      "Jane\n",
      "Smith\n",
      "20\n",
      "['Computación', 'Física']\n",
      "{'nombre': 'Universidad Super Patito', 'fundación': 2001}\n",
      "jane.smith@example.com\n",
      "Universidad Super Patito\n",
      "Computación\n"
     ]
    }
   ],
   "source": [
    "import pprint\n",
    "\n",
    "#1. Now it is your turn! Try the following in your own notebook:\n",
    "#Define a variable that represents a dictionary with 5 INT elements\n",
    "#Use functions from the math module to perform three different math operations on three of the five elements; you may find it easier to define variables for the elements. Feel free to combine elements as needed. \n",
    "#Lastly, print out you results separately.\n",
    "\n",
    "\n",
    "# Vamos a empezar declarando un diccionario vacío\n",
    "diccionario_vacio = {}\n",
    "\n",
    "# un diccionario con valores establecidos como literales\n",
    "datos_personales = {\n",
    "    \"nombre\": \"John\", \n",
    "    \"apellido\": \"Smith\",\n",
    "    \"edad\": 20, \n",
    "    \"carreras\": [\n",
    "        \"Computación\", \n",
    "        \"Física\"\n",
    "    ],\n",
    "    \"universidad\": {\n",
    "        \"nombre\": \"Universidad Super Patito\",\n",
    "        \"fundación\": 2001\n",
    "    }\n",
    "}\n",
    "\n",
    "# Ahora vamos a preguntarle al diccionario cuales\n",
    "# son las llaves que tiene\n",
    "print(\"keys de Dic datos personales \")\n",
    "print(datos_personales.keys())\n",
    "\n",
    "# Ahora vamos a acceder a los valores del diccionario\n",
    "print(\"keys de Dic del Key nombre y apellido \")\n",
    "print(datos_personales[\"nombre\"])\n",
    "print(datos_personales[\"apellido\"])\n",
    "\n",
    "# Ahora vamos a modificar el valor de una llave que \n",
    "# se encuentra en el diccionario\n",
    "datos_personales[\"nombre\"] = \"Jane\"\n",
    "\n",
    "# Ahora vamos a acceder a los valores del diccionario\n",
    "print(\"keys de Dic del Key nombre  cambio \")\n",
    "print(datos_personales[\"nombre\"])\n",
    "print(datos_personales[\"apellido\"])\n",
    "\n",
    "print(\"Agregar nueva llave email\")\n",
    "\n",
    "# Ahora vamos a agregar una llave que no existía previamente\n",
    "datos_personales[\"email\"] = \"jane.smith@example.com\"\n",
    "\n",
    "pprint.pprint(datos_personales)\n",
    "\n",
    "# Vamos a imprimir todos los valores de todas las\n",
    "# llaves que se cuentran en el diccionario\n",
    "for key in datos_personales.keys():\n",
    "    print(datos_personales[key])\n",
    "\n",
    "# Diccionario dentro de un diccionario\n",
    "print(datos_personales[\"universidad\"][\"nombre\"])\n",
    "\n",
    "# Lista dentro de un diccionario\n",
    "print(datos_personales[\"carreras\"][0])\n",
    "\n"
   ]
  },
  {
   "cell_type": "code",
   "execution_count": 44,
   "metadata": {},
   "outputs": [
    {
     "data": {
      "text/plain": [
       "47.138094997570704"
      ]
     },
     "execution_count": 44,
     "metadata": {},
     "output_type": "execute_result"
    }
   ],
   "source": [
    "mt.sqrt(var_z['val5'])\n"
   ]
  },
  {
   "cell_type": "code",
   "execution_count": 39,
   "metadata": {},
   "outputs": [
    {
     "data": {
      "text/plain": [
       "122.0"
      ]
     },
     "execution_count": 39,
     "metadata": {},
     "output_type": "execute_result"
    }
   ],
   "source": [
    "#100+22\n",
    "mt.fsum([var_z['val4'], var_z['val2']])"
   ]
  },
  {
   "cell_type": "code",
   "execution_count": 40,
   "metadata": {},
   "outputs": [
    {
     "data": {
      "text/plain": [
       "False"
      ]
     },
     "execution_count": 40,
     "metadata": {},
     "output_type": "execute_result"
    }
   ],
   "source": [
    "math.isinf(var_z['val2']) #Return True if x is a positive or negative infinity, and False otherwise.\n"
   ]
  },
  {
   "cell_type": "code",
   "execution_count": 41,
   "metadata": {},
   "outputs": [
    {
     "data": {
      "text/plain": [
       "72004899337.38588"
      ]
     },
     "execution_count": 41,
     "metadata": {},
     "output_type": "execute_result"
    }
   ],
   "source": [
    "from math import exp, expm1\n",
    "\n",
    "exp (var_z['val3']) #Calculate the product of all the elements in the input iterable.\n",
    "#The default start value for the product is 1."
   ]
  },
  {
   "cell_type": "code",
   "execution_count": null,
   "metadata": {},
   "outputs": [],
   "source": []
  }
 ],
 "metadata": {
  "kernelspec": {
   "display_name": "Python 3",
   "language": "python",
   "name": "python3"
  },
  "language_info": {
   "codemirror_mode": {
    "name": "ipython",
    "version": 3
   },
   "file_extension": ".py",
   "mimetype": "text/x-python",
   "name": "python",
   "nbconvert_exporter": "python",
   "pygments_lexer": "ipython3",
   "version": "3.7.4"
  }
 },
 "nbformat": 4,
 "nbformat_minor": 2
}
